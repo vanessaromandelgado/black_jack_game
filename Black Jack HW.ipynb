{
 "cells": [
  {
   "cell_type": "code",
   "execution_count": null,
   "id": "91d6af3f",
   "metadata": {},
   "outputs": [],
   "source": [
    "###planning\n",
    "\"\"\"high priority\"\"\"\n",
    "#1.random card draw\n",
    "#2.show card\n",
    "#3.hit\n",
    "#4.bust\n",
    "#5.store card face value by appending to list\n",
    "#6.look up face value in list with point value in dict\n",
    "#7.sum up card point value\n",
    "#8.compare card point value of dealer and player\n",
    "\"\"\"low priority\"\"\"\n",
    "#9.dealer max draw is 17 points\n",
    "#10.player max draw is 21 points\n",
    "#11.player who stands before reaching 21, wins\n",
    "#10.player who hits and raches 21, busts, and other player wins\n",
    "\"\"\"\n",
    "#math jack, queen, king, jack values, if total >11, \n",
    "if less than <11 make ace worth 1 (ifstatement) so to not bust\"\"\""
   ]
  },
  {
   "cell_type": "code",
   "execution_count": 79,
   "id": "6c06ef82",
   "metadata": {},
   "outputs": [
    {
     "name": "stdout",
     "output_type": "stream",
     "text": [
      "What is the player's name?v\n",
      "Welcome to the Black Jack Game\n",
      "Let's shuffle and deal the deck!\n",
      "Your new deal is\n",
      "10\n",
      "of hearts\n",
      "10\n",
      "of spades\n",
      "The Dealer's new deal is\n",
      "3\n",
      "of hearts\n",
      "2\n",
      "of clubs\n"
     ]
    },
    {
     "ename": "TypeError",
     "evalue": "'>' not supported between instances of 'list' and 'int'",
     "output_type": "error",
     "traceback": [
      "\u001b[0;31m---------------------------------------------------------------------------\u001b[0m",
      "\u001b[0;31mTypeError\u001b[0m                                 Traceback (most recent call last)",
      "\u001b[0;32m<ipython-input-79-3bcf4b08935f>\u001b[0m in \u001b[0;36m<module>\u001b[0;34m\u001b[0m\n\u001b[1;32m     73\u001b[0m \u001b[0;34m\u001b[0m\u001b[0m\n\u001b[1;32m     74\u001b[0m \u001b[0;34m\u001b[0m\u001b[0m\n\u001b[0;32m---> 75\u001b[0;31m \u001b[0mDriverCode\u001b[0m\u001b[0;34m(\u001b[0m\u001b[0mplayers\u001b[0m\u001b[0;34m)\u001b[0m\u001b[0;34m\u001b[0m\u001b[0;34m\u001b[0m\u001b[0m\n\u001b[0m",
      "\u001b[0;32m<ipython-input-79-3bcf4b08935f>\u001b[0m in \u001b[0;36mDriverCode\u001b[0;34m(player_name)\u001b[0m\n\u001b[1;32m     70\u001b[0m     \u001b[0mplayer_name\u001b[0m\u001b[0;34m.\u001b[0m\u001b[0mdeal_player\u001b[0m\u001b[0;34m(\u001b[0m\u001b[0;34m)\u001b[0m\u001b[0;34m\u001b[0m\u001b[0;34m\u001b[0m\u001b[0m\n\u001b[1;32m     71\u001b[0m     \u001b[0mplayer_name\u001b[0m\u001b[0;34m.\u001b[0m\u001b[0mdeal_dealer\u001b[0m\u001b[0;34m(\u001b[0m\u001b[0;34m)\u001b[0m\u001b[0;34m\u001b[0m\u001b[0;34m\u001b[0m\u001b[0m\n\u001b[0;32m---> 72\u001b[0;31m     \u001b[0mplayer_name\u001b[0m\u001b[0;34m.\u001b[0m\u001b[0mdeal_results\u001b[0m\u001b[0;34m(\u001b[0m\u001b[0;34m)\u001b[0m\u001b[0;34m\u001b[0m\u001b[0;34m\u001b[0m\u001b[0m\n\u001b[0m\u001b[1;32m     73\u001b[0m \u001b[0;34m\u001b[0m\u001b[0m\n\u001b[1;32m     74\u001b[0m \u001b[0;34m\u001b[0m\u001b[0m\n",
      "\u001b[0;32m<ipython-input-79-3bcf4b08935f>\u001b[0m in \u001b[0;36mdeal_results\u001b[0;34m(self, player_hand, dealer_hand)\u001b[0m\n\u001b[1;32m     50\u001b[0m         \u001b[0;32mif\u001b[0m \u001b[0mself\u001b[0m\u001b[0;34m.\u001b[0m\u001b[0mplayer_hand\u001b[0m \u001b[0;34m>\u001b[0m \u001b[0mself\u001b[0m\u001b[0;34m.\u001b[0m\u001b[0mdealer_hand\u001b[0m\u001b[0;34m:\u001b[0m\u001b[0;34m\u001b[0m\u001b[0;34m\u001b[0m\u001b[0m\n\u001b[1;32m     51\u001b[0m             \u001b[0mprint\u001b[0m\u001b[0;34m(\u001b[0m\u001b[0;34m'You win!'\u001b[0m\u001b[0;34m)\u001b[0m\u001b[0;34m\u001b[0m\u001b[0;34m\u001b[0m\u001b[0m\n\u001b[0;32m---> 52\u001b[0;31m         \u001b[0;32mif\u001b[0m \u001b[0mself\u001b[0m\u001b[0;34m.\u001b[0m\u001b[0mplayer_hand\u001b[0m \u001b[0;34m>\u001b[0m \u001b[0;36m21\u001b[0m\u001b[0;34m:\u001b[0m\u001b[0;34m\u001b[0m\u001b[0;34m\u001b[0m\u001b[0m\n\u001b[0m\u001b[1;32m     53\u001b[0m             \u001b[0mprint\u001b[0m\u001b[0;34m(\u001b[0m\u001b[0;34m\"You've bust!\"\u001b[0m\u001b[0;34m)\u001b[0m\u001b[0;34m\u001b[0m\u001b[0;34m\u001b[0m\u001b[0m\n\u001b[1;32m     54\u001b[0m         \u001b[0;32mif\u001b[0m \u001b[0mself\u001b[0m\u001b[0;34m.\u001b[0m\u001b[0mdealer_hand\u001b[0m \u001b[0;34m>\u001b[0m \u001b[0mself\u001b[0m\u001b[0;34m.\u001b[0m\u001b[0mplayer_hand\u001b[0m\u001b[0;34m:\u001b[0m\u001b[0;34m\u001b[0m\u001b[0;34m\u001b[0m\u001b[0m\n",
      "\u001b[0;31mTypeError\u001b[0m: '>' not supported between instances of 'list' and 'int'"
     ]
    }
   ],
   "source": [
    "#random card draw, first step card deck to draw from\n",
    "import random\n",
    "card_deck = { }\n",
    "\n",
    "card_deck = {\n",
    "    'of spades' : ['Ace',2,3,4,5,6,7,8,9,10],\n",
    "    'of diamonds' : ['Ace',2,3,4,5,6,7,8,9,10],\n",
    "    'of clubs' : ['Ace',2,3,4,5,6,7,8,9,10],\n",
    "    'of hearts' : ['Ace',2,3,4,5,6,7,8,9,10],\n",
    "    }\n",
    "\n",
    "\n",
    "class Game():\n",
    "    def __init__(self, player_hand=[], dealer_hand=[]):\n",
    "        self.player_hand = player_hand\n",
    "        self.dealer_hand = dealer_hand\n",
    "    \n",
    "    \n",
    "    def welcome(self):\n",
    "        print ('Welcome to the Black Jack Game')\n",
    "        \n",
    "    def deal_player(self, player_hand=[]):\n",
    "        print (\"Let's shuffle and deal the deck!\")\n",
    "        print ('Your new deal is')\n",
    "        suit_value = random.choice(list(card_deck.keys()))\n",
    "        card_name = (random.choice(card_deck[suit_value]))\n",
    "        print(card_name)\n",
    "        print(suit_value)\n",
    "        self.player_hand.append({suit_value})\n",
    "        suit_value = random.choice(list(card_deck.keys()))\n",
    "        card_name = (random.choice(card_deck[suit_value]))\n",
    "        print(card_name)\n",
    "        print(suit_value)\n",
    "        self.player_hand.append({suit_value})\n",
    "        \n",
    "    def deal_dealer(self, dealer_hand=[]):\n",
    "        print (\"The Dealer's new deal is\")\n",
    "        suit_value = random.choice(list(card_deck.keys()))\n",
    "        card_name = (random.choice(card_deck[suit_value]))\n",
    "        print(card_name)\n",
    "        print(suit_value)\n",
    "        self.player_hand.append({suit_value})\n",
    "        suit_value = random.choice(list(card_deck.keys()))\n",
    "        card_name = (random.choice(card_deck[suit_value]))\n",
    "        print(card_name)\n",
    "        print(suit_value)\n",
    "        self.dealer_hand.append({suit_value})\n",
    "        \n",
    "    def deal_results(self, player_hand=[], dealer_hand=[]):\n",
    "        if self.player_hand > self.dealer_hand:\n",
    "            print('You win!')\n",
    "        if self.player_hand > 21:\n",
    "            print(\"You've bust!\")\n",
    "        if self.dealer_hand > self.player_hand:\n",
    "            print('Dealer wins!')\n",
    "        if self.dealer_hand > 17:\n",
    "            print(\"Dealer's bust, you win!\")\n",
    "    \n",
    "    def hit(self): #take another card and add to player's hand (list)\n",
    "        input(\"Please type in 'hit' or 'bust' to continue playing the Black Jacke Game.\") #player can hit as many times as they want until 21 bust\n",
    "    \n",
    "    def play_again(self): #if player wants to play again, reset the deck of cards, random function again\n",
    "        pass #ask player to play again\n",
    "\n",
    "players = input(f\"What is the player's name?\")\n",
    "players = Game()\n",
    "\n",
    "def DriverCode(player_name):\n",
    "    player_name.welcome()\n",
    "    player_name.deal_player()\n",
    "    player_name.deal_dealer()\n",
    "    player_name.deal_results()\n",
    "\n",
    "\n",
    "DriverCode(players)    "
   ]
  },
  {
   "cell_type": "code",
   "execution_count": null,
   "id": "3d6887e4",
   "metadata": {},
   "outputs": [],
   "source": []
  },
  {
   "cell_type": "code",
   "execution_count": null,
   "id": "8b0e4384",
   "metadata": {},
   "outputs": [],
   "source": []
  },
  {
   "cell_type": "code",
   "execution_count": null,
   "id": "23ecb96f",
   "metadata": {},
   "outputs": [],
   "source": []
  },
  {
   "cell_type": "code",
   "execution_count": null,
   "id": "559d09b9",
   "metadata": {},
   "outputs": [],
   "source": []
  },
  {
   "cell_type": "code",
   "execution_count": null,
   "id": "ebb8ac00",
   "metadata": {},
   "outputs": [],
   "source": []
  }
 ],
 "metadata": {
  "kernelspec": {
   "display_name": "Python 3",
   "language": "python",
   "name": "python3"
  },
  "language_info": {
   "codemirror_mode": {
    "name": "ipython",
    "version": 3
   },
   "file_extension": ".py",
   "mimetype": "text/x-python",
   "name": "python",
   "nbconvert_exporter": "python",
   "pygments_lexer": "ipython3",
   "version": "3.8.8"
  }
 },
 "nbformat": 4,
 "nbformat_minor": 5
}
